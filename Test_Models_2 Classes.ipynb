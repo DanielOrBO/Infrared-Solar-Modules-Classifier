{
 "cells": [
  {
   "cell_type": "code",
   "execution_count": 2,
   "metadata": {},
   "outputs": [
    {
     "data": {
      "text/plain": [
       "'test'"
      ]
     },
     "execution_count": 2,
     "metadata": {},
     "output_type": "execute_result"
    }
   ],
   "source": [
    "import functions as fn\n",
    "\n",
    "fn.example1()\n",
    "\n"
   ]
  },
  {
   "cell_type": "code",
   "execution_count": null,
   "metadata": {},
   "outputs": [],
   "source": [
    "\n",
    "from sklearn.model_selection import train_test_split\n",
    "from sklearn.tree import DecisionTreeClassifier\n",
    "# X: matriz de características ( fila imagen, columna caracteritica)\n",
    "# y: vector de etiquetas\n",
    "\n",
    "# Dividir los datos en conjuntos de entrenamiento y prueba\n",
    "X_train, X_test, y_train, y_test = train_test_split(X, y, test_size=0.2, random_state=42)\n",
    "\n",
    "# Crear y entrenar el modelo de árbol de decisión\n",
    "model = DecisionTreeClassifier()\n",
    "model.fit(X_train, y_train)\n",
    "\n",
    "# Evaluar la precisión del modelo en los datos de prueba\n",
    "accuracy = model.score(X_test, y_test)\n",
    "print(\"Precisión del modelo:\", accuracy)"
   ]
  },
  {
   "cell_type": "code",
   "execution_count": 1,
   "metadata": {},
   "outputs": [],
   "source": [
    "import os \n",
    "import pandas as pd\n",
    "import matplotlib.pyplot as plt\n",
    "import numpy as np\n",
    "import tensorflow as tf"
   ]
  },
  {
   "cell_type": "code",
   "execution_count": 11,
   "metadata": {},
   "outputs": [
    {
     "name": "stdout",
     "output_type": "stream",
     "text": [
      "                                          image_filepath   anomaly_class\n",
      "5171   d:\\Users\\ASUS\\Documents\\GitHub\\Infrared-Solar-...            Cell\n",
      "3792   d:\\Users\\ASUS\\Documents\\GitHub\\Infrared-Solar-...      Cell-Multi\n",
      "7195   d:\\Users\\ASUS\\Documents\\GitHub\\Infrared-Solar-...        Cracking\n",
      "1229   d:\\Users\\ASUS\\Documents\\GitHub\\Infrared-Solar-...           Diode\n",
      "977    d:\\Users\\ASUS\\Documents\\GitHub\\Infrared-Solar-...     Diode-Multi\n",
      "6746   d:\\Users\\ASUS\\Documents\\GitHub\\Infrared-Solar-...        Hot-Spot\n",
      "8153   d:\\Users\\ASUS\\Documents\\GitHub\\Infrared-Solar-...  Hot-Spot-Multi\n",
      "19985  d:\\Users\\ASUS\\Documents\\GitHub\\Infrared-Solar-...      No-Anomaly\n",
      "709    d:\\Users\\ASUS\\Documents\\GitHub\\Infrared-Solar-...  Offline-Module\n",
      "2891   d:\\Users\\ASUS\\Documents\\GitHub\\Infrared-Solar-...       Shadowing\n",
      "8325   d:\\Users\\ASUS\\Documents\\GitHub\\Infrared-Solar-...         Soiling\n",
      "8821   d:\\Users\\ASUS\\Documents\\GitHub\\Infrared-Solar-...      Vegetation\n"
     ]
    }
   ],
   "source": [
    "DATA_PATH = r\"d:\\Users\\ASUS\\Documents\\GitHub\\Infrared-Solar-Modules-Classifier\\Data\\2020-02-14_InfraredSolarModules\"\n",
    "METADATA_PATH = os.path.join(DATA_PATH, 'module_metadata.json')\n",
    "\n",
    "df = pd.read_json(METADATA_PATH, orient='index').sort_index()\n",
    "df['image_filepath'] = df.image_filepath.apply(lambda x: os.path.join(DATA_PATH, x))\n",
    "\n",
    "sample = df.groupby('anomaly_class').sample()\n",
    "print(sample)"
   ]
  },
  {
   "cell_type": "code",
   "execution_count": null,
   "metadata": {},
   "outputs": [],
   "source": [
    "from functions import *\n",
    "\n",
    "data = ExtFwVGG16(df[\"image_filepath\"][0])\n"
   ]
  },
  {
   "cell_type": "code",
   "execution_count": 10,
   "metadata": {},
   "outputs": [
    {
     "data": {
      "text/plain": [
       "(1, 1000)"
      ]
     },
     "execution_count": 10,
     "metadata": {},
     "output_type": "execute_result"
    }
   ],
   "source": []
  }
 ],
 "metadata": {
  "kernelspec": {
   "display_name": "Python 3",
   "language": "python",
   "name": "python3"
  },
  "language_info": {
   "codemirror_mode": {
    "name": "ipython",
    "version": 3
   },
   "file_extension": ".py",
   "mimetype": "text/x-python",
   "name": "python",
   "nbconvert_exporter": "python",
   "pygments_lexer": "ipython3",
   "version": "3.10.11"
  },
  "orig_nbformat": 4
 },
 "nbformat": 4,
 "nbformat_minor": 2
}
