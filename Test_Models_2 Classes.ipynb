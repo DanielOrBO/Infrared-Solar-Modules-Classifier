{
 "cells": [
  {
   "cell_type": "code",
   "execution_count": 2,
   "metadata": {},
   "outputs": [
    {
     "data": {
      "text/plain": [
       "'test'"
      ]
     },
     "execution_count": 2,
     "metadata": {},
     "output_type": "execute_result"
    }
   ],
   "source": [
    "import functions as fn\n",
    "\n",
    "fn.example1()\n",
    "\n"
   ]
  },
  {
   "cell_type": "code",
   "execution_count": null,
   "metadata": {},
   "outputs": [],
   "source": [
    "\n",
    "from sklearn.model_selection import train_test_split\n",
    "from sklearn.tree import DecisionTreeClassifier\n",
    "# X: matriz de características ( fila imagen, columna caracteritica)\n",
    "# y: vector de etiquetas\n",
    "\n",
    "# Dividir los datos en conjuntos de entrenamiento y prueba\n",
    "X_train, X_test, y_train, y_test = train_test_split(X, y, test_size=0.2, random_state=42)\n",
    "\n",
    "# Crear y entrenar el modelo de árbol de decisión\n",
    "model = DecisionTreeClassifier()\n",
    "model.fit(X_train, y_train)\n",
    "\n",
    "# Evaluar la precisión del modelo en los datos de prueba\n",
    "accuracy = model.score(X_test, y_test)\n",
    "print(\"Precisión del modelo:\", accuracy)"
   ]
  },
  {
   "cell_type": "code",
   "execution_count": 3,
   "metadata": {},
   "outputs": [],
   "source": [
    "import os \n",
    "import pandas as pd\n",
    "import matplotlib.pyplot as plt\n",
    "import numpy as np\n",
    "import tensorflow as tf"
   ]
  },
  {
   "cell_type": "code",
   "execution_count": 54,
   "metadata": {},
   "outputs": [
    {
     "name": "stdout",
     "output_type": "stream",
     "text": [
      "                                          image_filepath   anomaly_class\n",
      "0      d:\\Users\\ASUS\\Documents\\GitHub\\Infrared-Solar-...  Offline-Module\n",
      "1      d:\\Users\\ASUS\\Documents\\GitHub\\Infrared-Solar-...  Offline-Module\n",
      "2      d:\\Users\\ASUS\\Documents\\GitHub\\Infrared-Solar-...  Offline-Module\n",
      "3      d:\\Users\\ASUS\\Documents\\GitHub\\Infrared-Solar-...  Offline-Module\n",
      "4      d:\\Users\\ASUS\\Documents\\GitHub\\Infrared-Solar-...  Offline-Module\n",
      "...                                                  ...             ...\n",
      "19995  d:\\Users\\ASUS\\Documents\\GitHub\\Infrared-Solar-...      No-Anomaly\n",
      "19996  d:\\Users\\ASUS\\Documents\\GitHub\\Infrared-Solar-...      No-Anomaly\n",
      "19997  d:\\Users\\ASUS\\Documents\\GitHub\\Infrared-Solar-...      No-Anomaly\n",
      "19998  d:\\Users\\ASUS\\Documents\\GitHub\\Infrared-Solar-...      No-Anomaly\n",
      "19999  d:\\Users\\ASUS\\Documents\\GitHub\\Infrared-Solar-...      No-Anomaly\n",
      "\n",
      "[20000 rows x 2 columns]\n"
     ]
    }
   ],
   "source": [
    "from functions import *\n",
    "DATA_PATH = r\"d:\\Users\\ASUS\\Documents\\GitHub\\Infrared-Solar-Modules-Classifier\\Data\\2020-02-14_InfraredSolarModules\"\n",
    "METADATA_PATH = os.path.join(DATA_PATH, 'module_metadata.json')\n",
    "\n",
    "df = pd.read_json(METADATA_PATH, orient='index').sort_index()\n",
    "df['image_filepath'] = df.image_filepath.apply(lambda x: os.path.join(DATA_PATH, x))\n",
    "\n",
    "sample = df.groupby('anomaly_class').sample().sort_index()\n",
    "\n",
    "print(df)"
   ]
  },
  {
   "cell_type": "code",
   "execution_count": 55,
   "metadata": {},
   "outputs": [
    {
     "name": "stdout",
     "output_type": "stream",
     "text": [
      "                                          image_filepath anomaly_class\n",
      "245    d:\\Users\\ASUS\\Documents\\GitHub\\Infrared-Solar-...       Anomaly\n",
      "567    d:\\Users\\ASUS\\Documents\\GitHub\\Infrared-Solar-...       Anomaly\n",
      "1290   d:\\Users\\ASUS\\Documents\\GitHub\\Infrared-Solar-...       Anomaly\n",
      "1828   d:\\Users\\ASUS\\Documents\\GitHub\\Infrared-Solar-...       Anomaly\n",
      "4215   d:\\Users\\ASUS\\Documents\\GitHub\\Infrared-Solar-...       Anomaly\n",
      "4642   d:\\Users\\ASUS\\Documents\\GitHub\\Infrared-Solar-...       Anomaly\n",
      "4768   d:\\Users\\ASUS\\Documents\\GitHub\\Infrared-Solar-...       Anomaly\n",
      "5460   d:\\Users\\ASUS\\Documents\\GitHub\\Infrared-Solar-...       Anomaly\n",
      "7546   d:\\Users\\ASUS\\Documents\\GitHub\\Infrared-Solar-...       Anomaly\n",
      "8406   d:\\Users\\ASUS\\Documents\\GitHub\\Infrared-Solar-...       Anomaly\n",
      "10154  d:\\Users\\ASUS\\Documents\\GitHub\\Infrared-Solar-...    No-Anomaly\n",
      "10965  d:\\Users\\ASUS\\Documents\\GitHub\\Infrared-Solar-...    No-Anomaly\n",
      "11469  d:\\Users\\ASUS\\Documents\\GitHub\\Infrared-Solar-...    No-Anomaly\n",
      "11657  d:\\Users\\ASUS\\Documents\\GitHub\\Infrared-Solar-...    No-Anomaly\n",
      "11808  d:\\Users\\ASUS\\Documents\\GitHub\\Infrared-Solar-...    No-Anomaly\n",
      "12205  d:\\Users\\ASUS\\Documents\\GitHub\\Infrared-Solar-...    No-Anomaly\n",
      "12923  d:\\Users\\ASUS\\Documents\\GitHub\\Infrared-Solar-...    No-Anomaly\n",
      "13209  d:\\Users\\ASUS\\Documents\\GitHub\\Infrared-Solar-...    No-Anomaly\n",
      "16744  d:\\Users\\ASUS\\Documents\\GitHub\\Infrared-Solar-...    No-Anomaly\n",
      "18651  d:\\Users\\ASUS\\Documents\\GitHub\\Infrared-Solar-...    No-Anomaly\n"
     ]
    }
   ],
   "source": [
    "\n",
    "# data = ExtFwVGG16(sample[\"image_filepath\"][0])\n",
    "df = J2Anottation(DATA_PATH,METADATA_PATH)\n",
    "sample = df.groupby('anomaly_class').sample(n=10).sort_index()\n",
    "\n",
    "print(sample)\n"
   ]
  },
  {
   "cell_type": "code",
   "execution_count": 57,
   "metadata": {},
   "outputs": [
    {
     "name": "stdout",
     "output_type": "stream",
     "text": [
      "d:\\Users\\ASUS\\Documents\\GitHub\\Infrared-Solar-Modules-Classifier\\Data\\2020-02-14_InfraredSolarModules\\Anomaly\n"
     ]
    }
   ],
   "source": [
    "print(sample[\"image_filepath\"][245])"
   ]
  },
  {
   "cell_type": "code",
   "execution_count": null,
   "metadata": {},
   "outputs": [],
   "source": [
    "for i in range(len(data[0])):\n",
    "    sample[f\"Columna {i}\"] = \"\"\n",
    "# Obtener los nombres de las filas\n",
    "nombres_filas = sample.index.tolist()\n",
    "\n",
    "# Imprimir los nombres de las filas\n",
    "print(nombres_filas)"
   ]
  },
  {
   "cell_type": "code",
   "execution_count": 53,
   "metadata": {},
   "outputs": [
    {
     "ename": "FileNotFoundError",
     "evalue": "[Errno 2] No such file or directory: 'd:\\\\Users\\\\ASUS\\\\Documents\\\\GitHub\\\\Infrared-Solar-Modules-Classifier\\\\Data\\\\2020-02-14_InfraredSolarModules\\\\Anomaly'",
     "output_type": "error",
     "traceback": [
      "\u001b[1;31m---------------------------------------------------------------------------\u001b[0m",
      "\u001b[1;31mFileNotFoundError\u001b[0m                         Traceback (most recent call last)",
      "Cell \u001b[1;32mIn[53], line 7\u001b[0m\n\u001b[0;32m      5\u001b[0m         feeuturs \u001b[39m=\u001b[39m ExtFwVGG16(sample[\u001b[39m\"\u001b[39m\u001b[39mimage_filepath\u001b[39m\u001b[39m\"\u001b[39m][n])\n\u001b[0;32m      6\u001b[0m         \u001b[39mprint\u001b[39m(feeuturs)\n\u001b[1;32m----> 7\u001b[0m dataframe(sample)        \n",
      "Cell \u001b[1;32mIn[53], line 5\u001b[0m, in \u001b[0;36mdataframe\u001b[1;34m(df)\u001b[0m\n\u001b[0;32m      3\u001b[0m sample \u001b[39m=\u001b[39m df\u001b[39m.\u001b[39mgroupby(\u001b[39m'\u001b[39m\u001b[39manomaly_class\u001b[39m\u001b[39m'\u001b[39m)\u001b[39m.\u001b[39msample(n\u001b[39m=\u001b[39m\u001b[39m10\u001b[39m)\u001b[39m.\u001b[39msort_index()\n\u001b[0;32m      4\u001b[0m \u001b[39mfor\u001b[39;00m n \u001b[39min\u001b[39;00m sample\u001b[39m.\u001b[39mindex\u001b[39m.\u001b[39mtolist():\n\u001b[1;32m----> 5\u001b[0m     feeuturs \u001b[39m=\u001b[39m ExtFwVGG16(sample[\u001b[39m\"\u001b[39;49m\u001b[39mimage_filepath\u001b[39;49m\u001b[39m\"\u001b[39;49m][n])\n\u001b[0;32m      6\u001b[0m     \u001b[39mprint\u001b[39m(feeuturs)\n",
      "File \u001b[1;32md:\\Users\\ASUS\\Documents\\GitHub\\Infrared-Solar-Modules-Classifier\\functions.py:34\u001b[0m, in \u001b[0;36mExtFwVGG16\u001b[1;34m(image_path)\u001b[0m\n\u001b[0;32m     29\u001b[0m def ExtFwVGG16(image_path):\n\u001b[0;32m     30\u001b[0m     \n\u001b[0;32m     31\u001b[0m     # Cargar el modelo preentrenado VGG16\n\u001b[0;32m     32\u001b[0m     vgg16 = VGG16(weights='imagenet')\n\u001b[1;32m---> 34\u001b[0m     # Cargar y preprocesar la imagen de entrada\n\u001b[0;32m     35\u001b[0m     img = image.load_img(image_path, target_size=(224, 224))\n\u001b[0;32m     36\u001b[0m     print(img) \n",
      "File \u001b[1;32m~\\AppData\\Local\\Packages\\PythonSoftwareFoundation.Python.3.10_qbz5n2kfra8p0\\LocalCache\\local-packages\\Python310\\site-packages\\keras\\utils\\image_utils.py:422\u001b[0m, in \u001b[0;36mload_img\u001b[1;34m(path, grayscale, color_mode, target_size, interpolation, keep_aspect_ratio)\u001b[0m\n\u001b[0;32m    420\u001b[0m     \u001b[39mif\u001b[39;00m \u001b[39misinstance\u001b[39m(path, pathlib\u001b[39m.\u001b[39mPath):\n\u001b[0;32m    421\u001b[0m         path \u001b[39m=\u001b[39m \u001b[39mstr\u001b[39m(path\u001b[39m.\u001b[39mresolve())\n\u001b[1;32m--> 422\u001b[0m     \u001b[39mwith\u001b[39;00m \u001b[39mopen\u001b[39;49m(path, \u001b[39m\"\u001b[39;49m\u001b[39mrb\u001b[39;49m\u001b[39m\"\u001b[39;49m) \u001b[39mas\u001b[39;00m f:\n\u001b[0;32m    423\u001b[0m         img \u001b[39m=\u001b[39m pil_image\u001b[39m.\u001b[39mopen(io\u001b[39m.\u001b[39mBytesIO(f\u001b[39m.\u001b[39mread()))\n\u001b[0;32m    424\u001b[0m \u001b[39melse\u001b[39;00m:\n",
      "\u001b[1;31mFileNotFoundError\u001b[0m: [Errno 2] No such file or directory: 'd:\\\\Users\\\\ASUS\\\\Documents\\\\GitHub\\\\Infrared-Solar-Modules-Classifier\\\\Data\\\\2020-02-14_InfraredSolarModules\\\\Anomaly'"
     ]
    }
   ],
   "source": [
    "def dataframe(df):\n",
    "    \n",
    "    sample = df.groupby('anomaly_class').sample(n=10).sort_index()\n",
    "    for n in sample.index.tolist():\n",
    "        feeuturs = ExtFwVGG16(sample[\"image_filepath\"][n])\n",
    "        print(feeuturs)\n",
    "dataframe(sample)        \n",
    "    "
   ]
  }
 ],
 "metadata": {
  "kernelspec": {
   "display_name": "Python 3",
   "language": "python",
   "name": "python3"
  },
  "language_info": {
   "codemirror_mode": {
    "name": "ipython",
    "version": 3
   },
   "file_extension": ".py",
   "mimetype": "text/x-python",
   "name": "python",
   "nbconvert_exporter": "python",
   "pygments_lexer": "ipython3",
   "version": "3.10.11"
  },
  "orig_nbformat": 4
 },
 "nbformat": 4,
 "nbformat_minor": 2
}
